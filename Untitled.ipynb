{
 "cells": [
  {
   "cell_type": "code",
   "execution_count": null,
   "metadata": {},
   "outputs": [],
   "source": [
    "print('Belajar Part2')"
   ]
  },
  {
   "cell_type": "code",
   "execution_count": null,
   "metadata": {},
   "outputs": [],
   "source": [
    "import pandas as pd #memasukan library pandas\n",
    "\n",
    "data = pd.read_excel('datakelulusanmahasiswa.xls', index_col=0) #import data excel\n",
    "dw = pd.DataFrame(data, columns=['NAMA','JENIS KELAMIN','STATUS MAHASISWA','UMUR','STATUS NIKAH','IPS 1','IPS 2','IPS 3','IPS 4','IPS 5','IPS 6','IPS 7', 'IPS 8','IPK ','STATUS KELULUSAN']) #memilih coloum sesuai kondisi\n",
    "do = dw.drop_duplicates() #untuk uniq data\n",
    "dp = do.iloc[:380] #untuk memilih data dari index 0 sampai 380\n",
    "print(dp)#menampilkan hasil\n",
    "\n",
    "df = data.loc[data['STATUS KELULUSAN'] == 'TEPAT'] #memilih value data di coloum\n",
    "dg = pd.DataFrame(df, columns=['NAMA','JENIS KELAMIN','STATUS MAHASISWA','UMUR','STATUS NIKAH','IPS 1','IPS 2','IPS 3','IPS 4','IPS 5','IPS 6','IPS 7', 'IPS 8','IPK ','STATUS KELULUSAN']) #memilih coloum yang akan di tampilkan\n",
    "de = dg.sort_values(by='UMUR', ascending=True) #mengurutkan data di kolom\n",
    "dp = do.iloc[:380] #untuk memilih data dari index 0 sampai 380\n",
    "print(de) #menampilkan hasil"
   ]
  },
  {
   "cell_type": "code",
   "execution_count": null,
   "metadata": {},
   "outputs": [],
   "source": [
    "import matplotlib.pyplot as plt # memasukan library matplotlib\n",
    "import pandas as pd\n",
    "import numpy as np\n",
    "\n",
    "x = df['STATUS KELULUSAN'] #menyimpan data dari field status kelulusan\n",
    "sumbu_x = np.array(x) #disimpan dalam bentuk array\n",
    "y = df['IPK '] #menyimpan data dari field IPK\n",
    "sumbu_y = np.array(y)#disimpan dalam bentuk array\n",
    "\n",
    "# sumbu x untuk nama(variabel), sumbu y untuk angka(value)\n",
    "plt.figure(figsize=(15,8)) # mengatur ukuran chart\n",
    "plt.plot(df['STATUS KELULUSAN'], df['IPK '] ) # memilih chart yang akan ditampilkan, dan mengisi sumbu x dan y\n",
    "plt.title('VISUALISASI DATA', fontsize=20, style='italic') # membuat judul\n",
    "plt.xticks(rotation=50, fontsize=14) # mengatur di sumbu x\n",
    "plt.yticks(fontsize=14) # mengatur sumbu y\n",
    "plt.xlabel('STATUS KELULUSAN', fontsize= 20) # memberi nama sumbu x\n",
    "plt.ylabel('IPK ', fontsize= 18) # memberi nama sumbu y\n",
    "plt.show() # menampilkan chart"
   ]
  },
  {
   "cell_type": "code",
   "execution_count": null,
   "metadata": {},
   "outputs": [],
   "source": []
  },
  {
   "cell_type": "code",
   "execution_count": null,
   "metadata": {},
   "outputs": [],
   "source": []
  }
 ],
 "metadata": {
  "kernelspec": {
   "display_name": "Python 3",
   "language": "python",
   "name": "python3"
  },
  "language_info": {
   "codemirror_mode": {
    "name": "ipython",
    "version": 3
   },
   "file_extension": ".py",
   "mimetype": "text/x-python",
   "name": "python",
   "nbconvert_exporter": "python",
   "pygments_lexer": "ipython3",
   "version": "3.7.3"
  }
 },
 "nbformat": 4,
 "nbformat_minor": 4
}
